{
 "cells": [
  {
   "metadata": {},
   "cell_type": "markdown",
   "source": [
    "# Exercises on Bayesian regularized regression\n",
    "\n",
    "**Authors**: original R Tutorial created by Sara van Erp and Duco Veen; Python translation by Florian Metwaly.\n",
    "\n",
    "This is the answer file to the 'exercise_Bayesian_regularization.ipybn' notebook. You can find the correct answers under the corresponding exercise number."
   ],
   "id": "591d416101911a33"
  },
  {
   "metadata": {},
   "cell_type": "markdown",
   "source": "### Exercise 1",
   "id": "4235900f1f8db512"
  },
  {
   "metadata": {},
   "cell_type": "code",
   "outputs": [],
   "execution_count": null,
   "source": [
    "model = bmb.Model(\"Rings ~ 0 + Sex + Length + Diameter + Height + Whole_weight + Shucked_weight + Viscera_weight + Shell_weight\", data=train)\n",
    "fit_default = model.fit()"
   ],
   "id": "c79342ed2f76a329"
  },
  {
   "metadata": {},
   "cell_type": "markdown",
   "source": "### Exercise 2",
   "id": "9f223c2a8fc7256f"
  },
  {
   "metadata": {},
   "cell_type": "code",
   "outputs": [],
   "execution_count": null,
   "source": "az.summary(fit_default)",
   "id": "69dfb79eef728a04"
  },
  {
   "metadata": {},
   "cell_type": "markdown",
   "source": "### Exercise 3",
   "id": "c5c4785b01562fb1"
  },
  {
   "metadata": {},
   "cell_type": "code",
   "outputs": [],
   "execution_count": null,
   "source": [
    "ridge_prior = bmb.Prior(\"Normal\", mu=0, sigma=0.1)\n",
    "\n",
    "model = bmb.Model(\n",
    "    \"Rings ~ Sex + Length + Diameter + Height + Whole_weight + Shucked_weight + Viscera_weight + Shell_weight\",\n",
    "    data=train,\n",
    "    priors={\n",
    "        \"Sex\": ridge_prior,\n",
    "        \"Length\": ridge_prior,\n",
    "        \"Diameter\": ridge_prior,\n",
    "        \"Height\": ridge_prior,\n",
    "        \"Whole_weight\": ridge_prior,\n",
    "        \"Shucked_weight\": ridge_prior,\n",
    "        \"Viscera_weight\": ridge_prior,\n",
    "        \"Shell_weight\": ridge_prior\n",
    "    },\n",
    "    center_predictors=False\n",
    ")\n",
    "\n",
    "# Fit the model\n",
    "fit_ridge = model.fit(random_seed=SEED)\n",
    "\n",
    "# Summary\n",
    "az.summary(fit_ridge)"
   ],
   "id": "dc8307f0c93685d9"
  },
  {
   "metadata": {},
   "cell_type": "markdown",
   "source": "### Exercise 4",
   "id": "f824c5c45737b5ca"
  },
  {
   "metadata": {},
   "cell_type": "code",
   "outputs": [],
   "execution_count": null,
   "source": [
    "vars_to_plot = [\"Diameter\", \"Whole_weight\", \"Shell_weight\"]\n",
    "\n",
    "# Default priors\n",
    "fig, axes = plt.subplots(1, 3, figsize=(12, 4))\n",
    "az.plot_posterior(fit_default, var_names=vars_to_plot,\n",
    "                  hdi_prob=0.95, ax=axes)\n",
    "for ax in axes:\n",
    "    ax.set_xlim(-50, 75)\n",
    "fig.suptitle(\"Default Priors\")\n",
    "plt.tight_layout()\n",
    "plt.show()\n",
    "\n",
    "# Ridge priors\n",
    "fig, axes = plt.subplots(1, 3, figsize=(12, 4))\n",
    "az.plot_posterior(fit_ridge, var_names=vars_to_plot,\n",
    "                  hdi_prob=0.95, ax=axes)\n",
    "for ax in axes:\n",
    "    ax.set_xlim(-50, 75)\n",
    "fig.suptitle(\"Ridge Priors\")\n",
    "plt.tight_layout()\n",
    "plt.show()"
   ],
   "id": "5bae192910aba133"
  },
  {
   "metadata": {},
   "cell_type": "markdown",
   "source": "### Exercise 5",
   "id": "ad27c2da5b7c4610"
  },
  {
   "metadata": {},
   "cell_type": "code",
   "outputs": [],
   "execution_count": null,
   "source": [
    "# Default priors\n",
    "fig, ax = plt.subplots(figsize=(6, 4))\n",
    "az.plot_posterior(fit_default, var_names=[\"sigma\"],\n",
    "                  hdi_prob=0.95, ax=ax)\n",
    "ax.set_xlim(1, 4.5)\n",
    "fig.suptitle(\"Default Priors\")\n",
    "plt.tight_layout()\n",
    "plt.show()\n",
    "\n",
    "# Ridge priors\n",
    "fig, ax = plt.subplots(figsize=(6, 4))\n",
    "az.plot_posterior(fit_ridge, var_names=[\"sigma\"],\n",
    "                  hdi_prob=0.95, ax=ax)\n",
    "ax.set_xlim(1, 4.5)\n",
    "fig.suptitle(\"Ridge Priors\")\n",
    "plt.tight_layout()\n",
    "plt.show()"
   ],
   "id": "68197ede77f7f65f"
  },
  {
   "metadata": {},
   "cell_type": "markdown",
   "source": "### Exercise 6",
   "id": "1bc4d4cd35f1831e"
  },
  {
   "metadata": {},
   "cell_type": "code",
   "outputs": [],
   "execution_count": null,
   "source": [
    "variables = [\"Sex\", \"Length\", \"Diameter\", \"Height\",\n",
    "             \"Whole_weight\", \"Shucked_weight\", \"Viscera_weight\", \"Shell_weight\"]\n",
    "\n",
    "for var in variables:\n",
    "    fig, axes = plt.subplots(1, 3, figsize=(15, 4), sharey=True)\n",
    "\n",
    "    # Ridge\n",
    "    az.plot_posterior(fit_ridge, var_names=[var], ax=axes[0])\n",
    "    axes[0].set_title(\"Ridge Prior\")\n",
    "    axes[0].set_xlim(-5, 5)\n",
    "    axes[0].set_ylim(0, 5)\n",
    "\n",
    "    # Student-t\n",
    "    az.plot_posterior(fit_t, var_names=[var], ax=axes[1])\n",
    "    axes[1].set_title(\"Student-t Prior\")\n",
    "    axes[1].set_xlim(-5, 5)\n",
    "    axes[1].set_ylim(0, 5)\n",
    "\n",
    "    # Lasso\n",
    "    az.plot_posterior(fit_lasso, var_names=[var], ax=axes[2])\n",
    "    axes[2].set_title(\"Laplace (Lasso) Prior\")\n",
    "    axes[2].set_xlim(-5, 5)\n",
    "    axes[2].set_ylim(0, 5)\n",
    "\n",
    "    fig.suptitle(f\"Posterior of '{var}' across Priors\", y=1.05, fontsize=16)\n",
    "    plt.tight_layout()\n",
    "    plt.show()\n"
   ],
   "id": "b0ec09ffc547da6"
  },
  {
   "metadata": {},
   "cell_type": "markdown",
   "source": "#### Bonus",
   "id": "d0e7e43916aa6ad8"
  },
  {
   "metadata": {},
   "cell_type": "code",
   "outputs": [],
   "execution_count": null,
   "source": [
    "def extract_posterior_samples(idata, model_name, vars):\n",
    "    samples = az.extract(idata, var_names=vars)\n",
    "    df = samples.to_dataframe()\n",
    "    df[\"model\"] = model_name\n",
    "    return df\n",
    "\n",
    "df_ridge = extract_posterior_samples(fit_ridge, \"Ridge\", variables)\n",
    "df_t = extract_posterior_samples(fit_t, \"Student-t\", variables)\n",
    "df_lasso = extract_posterior_samples(fit_lasso, \"Lasso\", variables)\n",
    "\n",
    "# Combine all data\n",
    "df_all = pd.concat([df_ridge, df_t, df_lasso])\n",
    "\n",
    "# Melt into long-form for seaborn\n",
    "df_melt = df_all.melt(id_vars=\"model\", value_vars=variables, var_name=\"parameter\", value_name=\"value\")\n",
    "\n",
    "# Plot\n",
    "g = sns.FacetGrid(df_melt, col=\"parameter\", sharex=False, sharey=False,\n",
    "                  height=4, aspect=1.2, col_wrap=4)  # optional col_wrap for layout\n",
    "g.map_dataframe(sns.kdeplot, x=\"value\", hue=\"model\", fill=True, common_norm=False, alpha=0.5)\n",
    "g.add_legend(title=\"Model\")\n",
    "g._legend.set_bbox_to_anchor((1, 1))  # Optional: move it to the right\n",
    "g.set_titles(\"{col_name}\")\n",
    "g.set_axis_labels(\"Posterior value\", \"Density\")\n",
    "plt.tight_layout()\n",
    "plt.show()"
   ],
   "id": "6dbadc9cb6530b69"
  },
  {
   "metadata": {},
   "cell_type": "markdown",
   "source": "### Exercise 7",
   "id": "523794ec850328e"
  },
  {
   "metadata": {},
   "cell_type": "code",
   "outputs": [],
   "execution_count": null,
   "source": [
    "model_simple = bmb.Model(\"Rings ~ Length\", data=train,\n",
    "                         center_predictors=False)\n",
    "fit_simple = model_simple.fit(random_seed=SEED)\n",
    "\n",
    "az.summary(fit_simple)"
   ],
   "id": "876a97ee2ad34e31"
  },
  {
   "metadata": {},
   "cell_type": "markdown",
   "source": "### Exercise 8",
   "id": "a0381eba165219b"
  },
  {
   "metadata": {},
   "cell_type": "code",
   "outputs": [],
   "execution_count": null,
   "source": [
    "model_normal_prior = bmb.Model(\"Rings ~ Length\", data=train,\n",
    "                         priors = {\"Length\": bmb.Prior(\"Normal\", mu=0, sigma=10)},\n",
    "                         center_predictors=False)\n",
    "fit_normal_prior = model_normal_prior.fit(random_seed=SEED)\n",
    "\n",
    "az.summary(fit_normal_prior)\n",
    "# There is practically no influence of this prior; it is relatively uninformative given the scale of the variable."
   ],
   "id": "b22d750c331c2eae"
  },
  {
   "metadata": {},
   "cell_type": "markdown",
   "source": "### Exercise 9",
   "id": "454a154484066c68"
  },
  {
   "metadata": {},
   "cell_type": "code",
   "outputs": [],
   "execution_count": null,
   "source": [
    "## Frequentist Regression\n",
    "X_2 = train_new[\"Length_cm\"]\n",
    "y_2 = train_new[\"Rings\"]\n",
    "X_2 = sm.add_constant(X_2)\n",
    "\n",
    "fit2 = sm.OLS(y_2, X_2).fit()\n",
    "\n",
    "print(fit2.summary())\n",
    "\n",
    "## Bayesian Regression\n",
    "model_normal_prior2 = bmb.Model(\"Rings ~ Length\", data=train_new,\n",
    "                         priors = {\"Length_cm\": bmb.Prior(\"Normal\", mu=0, sigma=10)},\n",
    "                         center_predictors=False)\n",
    "fit_normal_prior2 = model_normal_prior2.fit(random_seed=SEED)\n",
    "\n",
    "az.summary(fit_normal_prior2)\n",
    "# Now, the effect is shrunken heavily!"
   ],
   "id": "c4e34531046d2ca9"
  },
  {
   "metadata": {},
   "cell_type": "markdown",
   "source": "## Exercise 10",
   "id": "9911f8722b956e6a"
  },
  {
   "metadata": {},
   "cell_type": "code",
   "outputs": [],
   "execution_count": null,
   "source": [
    "ridge_prior_scaled = bmb.Prior(\"Normal\", mu=0, sigma=0.1)\n",
    "\n",
    "model_ridge_scaled = bmb.Model(\n",
    "    \"Rings ~ Sex + Length + Diameter + Height + Whole_weight + Shucked_weight + Viscera_weight + Shell_weight\",\n",
    "    data=train,\n",
    "    priors={\n",
    "        \"Sex\": ridge_prior,\n",
    "        \"Length\": ridge_prior,\n",
    "        \"Diameter\": ridge_prior,\n",
    "        \"Height\": ridge_prior,\n",
    "        \"Whole_weight\": ridge_prior,\n",
    "        \"Shucked_weight\": ridge_prior,\n",
    "        \"Viscera_weight\": ridge_prior,\n",
    "        \"Shell_weight\": ridge_prior\n",
    "    },\n",
    "    center_predictors=True\n",
    ")\n",
    "\n",
    "# Fit the model\n",
    "fit_ridge_scaled = model_ridge_scaled.fit(random_seed=SEED)\n",
    "\n",
    "# Summary\n",
    "az.summary(fit_ridge_scaled)"
   ],
   "id": "2f4120d898dbda8f"
  },
  {
   "metadata": {},
   "cell_type": "markdown",
   "source": "## Exercise 10",
   "id": "baaf88620856fdfb"
  },
  {
   "metadata": {},
   "cell_type": "code",
   "outputs": [],
   "execution_count": null,
   "source": [
    "ridge_prior = bmb.Prior(\"Normal\", mu=0, sigma=0.1)\n",
    "\n",
    "model_ridge_scaled = bmb.Model(\n",
    "    \"Rings ~ Sex + Length + Diameter + Height + Whole_weight + Shucked_weight + Viscera_weight + Shell_weight\",\n",
    "    data=train,\n",
    "    priors={\n",
    "        \"Sex\": ridge_prior,\n",
    "        \"Length\": ridge_prior,\n",
    "        \"Diameter\": ridge_prior,\n",
    "        \"Height\": ridge_prior,\n",
    "        \"Whole_weight\": ridge_prior,\n",
    "        \"Shucked_weight\": ridge_prior,\n",
    "        \"Viscera_weight\": ridge_prior,\n",
    "        \"Shell_weight\": ridge_prior\n",
    "    },\n",
    "    center_predictors=True\n",
    ")\n",
    "\n",
    "# Fit the model\n",
    "fit_ridge_scaled = model_ridge_scaled.fit(random_seed=SEED)\n",
    "\n",
    "# Summary\n",
    "az.summary(fit_ridge_scaled, hdi_prob=0.95)\n",
    "\n",
    "# Now, we would select Shell_weight and Shucked_weight based on the 95% CI!\n",
    "\n",
    "## Plot them\n",
    "# Not centered\n",
    "az.plot_posterior(fit_ridge, var_names=[\"Shell_weight\", \"Shucked_weight\"],\n",
    "                  hdi_prob=0.95)\n",
    "plt.suptitle(\"Not centered\")\n",
    "plt.tight_layout()\n",
    "plt.show()\n",
    "\n",
    "# Centered\n",
    "az.plot_posterior(fit_ridge_scaled, var_names=[\"Shell_weight\", \"Shucked_weight\"],\n",
    "                  hdi_prob=0.95)\n",
    "plt.suptitle(\"Centered\")\n",
    "plt.tight_layout()\n",
    "plt.show()"
   ],
   "id": "f87a16c5af4277f7"
  }
 ],
 "metadata": {
  "kernelspec": {
   "display_name": "Python 3",
   "language": "python",
   "name": "python3"
  },
  "language_info": {
   "codemirror_mode": {
    "name": "ipython",
    "version": 2
   },
   "file_extension": ".py",
   "mimetype": "text/x-python",
   "name": "python",
   "nbconvert_exporter": "python",
   "pygments_lexer": "ipython2",
   "version": "2.7.6"
  }
 },
 "nbformat": 4,
 "nbformat_minor": 5
}
