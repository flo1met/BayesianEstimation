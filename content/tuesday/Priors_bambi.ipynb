{
 "cells": [
  {
   "metadata": {},
   "cell_type": "markdown",
   "source": [
    "# Influence of Priors: Popularity Data\n",
    "\n",
    "**Authors**: original R Tutorial created by Laurent Smeets and Rens van de Schoot, with updates by Duco Veen; Python translation by Florian Metwaly."
   ],
   "id": "b4b09f0ee7d0af3"
  },
  {
   "metadata": {},
   "cell_type": "markdown",
   "source": "## Introduction",
   "id": "d901c1d8797cbe4f"
  },
  {
   "metadata": {},
   "cell_type": "markdown",
   "source": "**This is part 2 of a 3 part series on how to do multilevel models in the Bayesian framework. In part 1 we explained how to step by step build the multilevel model we will use here and in part 3 we will look at the influence of different priors.**",
   "id": "a0e6004f5d9b4e3c"
  },
  {
   "metadata": {},
   "cell_type": "markdown",
   "source": "## Preparation",
   "id": "7d29c35d55018355"
  },
  {
   "metadata": {},
   "cell_type": "markdown",
   "source": [
    "This tutorial expects:\n",
    "\n",
    "-  Basic knowledge of multilevel analyses (first two chapters of the book are sufficient).\n",
    "-  Basic knowledge of coding in Python, and some familiarity with the R [LME4 package](https://www.rensvandeschoot.com/tutorials/lme4/).\n",
    "-  Basic knowledge of Bayesian Statistics.\n",
    "- Installation of bambi Python library\n",
    "- Basic knowledge of [Bayesian](https://www.rensvandeschoot.com/a-gentle-introduction-to-bayesian-analysis-applications-to-developmental-research/) inference\n"
   ],
   "id": "ad935ac8a3a3561d"
  },
  {
   "metadata": {},
   "cell_type": "markdown",
   "source": "## Priors",
   "id": "951846c07628683e"
  },
  {
   "metadata": {},
   "cell_type": "markdown",
   "source": [
    "*\"Prior specifications are flexible and explicitly encourage users to apply prior distributions that actually reflect their beliefs.\"* ([BRMS](https://cran.r-project.org/web/packages/brms/brms.pdf) manual)\n",
    "\n",
    "We will set 4 types of extra priors here (in addition to the uninformative prior we have used thus far)\n",
    "1.  With an estimate far off the value we found in the data with uninformative priors with a wide variance\n",
    "2.  With an estimate close to the value we found in the data with uninformative priors with a small variance\n",
    "3.  With an estimate far off the value we found in the data with uninformative priors with a small variance (1).\n",
    "4.  With an estimate far off the value we found in the data with uninformative priors with a small variance (2).\n",
    "\n",
    "In this tutorial we will only focus on priors for the regression coefficients and not on the error and variance terms, since we are most likely to actually have information on the size and direction of a certain effect and less (but not completely) unlikely to have prior knowledge on the unexplained variances. You might have to play around a little bit with the controls of the `fit()` function and specifically the `target_accept` and `max_treedepth`. Thankfully bambi will tell you when to do so."
   ],
   "id": "ca213a05699a61a2"
  },
  {
   "metadata": {},
   "cell_type": "markdown",
   "source": "## Step 1: Setting up packages",
   "id": "de11e8845fef0e61"
  },
  {
   "metadata": {},
   "cell_type": "markdown",
   "source": "The main package that is used for this analysis is [bambi](https://bambinos.github.io/bambi/). For more information and a tutorial on how to install these please have a look at: https://bambinos.github.io/bambi/. The bambi library is build on [PyMC](https://www.pymc.io/welcome.html). PyMC is a probabilistic programming library for Python, which implements many of the features of STAN. If you encounter performance issues, before installing bambi, install PyMC following their guide: https://www.pymc.io/projects/docs/en/stable/installation.html.",
   "id": "7972901b97e3cbe5"
  },
  {
   "metadata": {},
   "cell_type": "markdown",
   "source": "If you are using Google Colab, remove the `#` and run the following lines to install the needed libraries",
   "id": "e05a1fa437baa8a3"
  },
  {
   "metadata": {},
   "cell_type": "code",
   "outputs": [],
   "execution_count": null,
   "source": "#!pip install bambi",
   "id": "70fe6efa322141d0"
  },
  {
   "metadata": {},
   "cell_type": "markdown",
   "source": "After you have installed `bambi`, you need to load some more libraries that we need for this tutorial.",
   "id": "f58c410a755fcc93"
  },
  {
   "metadata": {
    "ExecuteTime": {
     "end_time": "2025-06-03T18:14:29.200828Z",
     "start_time": "2025-06-03T18:14:29.195303Z"
    }
   },
   "cell_type": "code",
   "source": [
    "import bambi as bmb # BAyesian Model-Building Interface in Python\n",
    "import arviz as az # Exploratory analysis of Bayesian models\n",
    "import pandas as pd\n",
    "import numpy as np\n",
    "import requests\n",
    "import matplotlib.pyplot as plt\n",
    "import seaborn as sns\n",
    "\n",
    "SEED = 1337"
   ],
   "id": "710416170c9f734d",
   "outputs": [],
   "execution_count": 56
  },
  {
   "metadata": {},
   "cell_type": "markdown",
   "source": "## Step 2: Downloading the data",
   "id": "c02bfe542939aa46"
  },
  {
   "metadata": {},
   "cell_type": "markdown",
   "source": [
    "The popularity dataset contains characteristics of pupils in different classes. The main goal of this tutorial is to find models and test hypotheses about the relation between these characteristics and the popularity of pupils (according to their classmates). To download the popularity data go to https://github.com/MirjamMoerbeek/Data_Sets_ML_book/blob/main/popular2.sav. We will use the .sav file which can be found in the SPSS folder. After downloading the data to your working directory you can open it with the `pandas` library using the `pd.read_spss()` command.\n",
    "\n",
    "Alternatively, you can directly download them from GitHub into your workin directory using the following command (this also works well if you are on Google Colab!):"
   ],
   "id": "db933ffb36175932"
  },
  {
   "metadata": {
    "ExecuteTime": {
     "end_time": "2025-06-03T15:43:54.447606Z",
     "start_time": "2025-06-03T15:43:53.707409Z"
    }
   },
   "cell_type": "code",
   "source": [
    "url = \"https://github.com/MirjamMoerbeek/Data_Sets_ML_book/raw/main/popular2.sav\"\n",
    "\n",
    "# Download the file\n",
    "with open(\"popular2.sav\", \"wb\") as f:\n",
    "    response = requests.get(url)\n",
    "    response.raise_for_status()\n",
    "    f.write(response.content)"
   ],
   "id": "90cebcafe6094b28",
   "outputs": [],
   "execution_count": 5
  },
  {
   "metadata": {
    "ExecuteTime": {
     "end_time": "2025-06-03T15:43:55.870006Z",
     "start_time": "2025-06-03T15:43:55.818364Z"
    }
   },
   "cell_type": "code",
   "source": "popular2data = pd.read_spss(\"popular2.sav\")",
   "id": "a133f03ebf222b58",
   "outputs": [],
   "execution_count": 6
  },
  {
   "metadata": {},
   "cell_type": "markdown",
   "source": "There are some variables in the dataset that we do not use, so we can select the variables we will use and have a look at the first few observations:",
   "id": "4253a19d1e088e5d"
  },
  {
   "metadata": {
    "ExecuteTime": {
     "end_time": "2025-06-03T15:43:57.015738Z",
     "start_time": "2025-06-03T15:43:56.995715Z"
    }
   },
   "cell_type": "code",
   "source": [
    "# We select just the variables we will use\n",
    "popular2data = popular2data[[\"pupil\", \"class\", \"extrav\", \"sex\", \"texp\", \"popular\"]]\n",
    "\n",
    "# Display the first 6 observations\n",
    "popular2data.head(6)"
   ],
   "id": "fc67509928481c3",
   "outputs": [
    {
     "data": {
      "text/plain": [
       "   pupil  class  extrav   sex  texp  popular\n",
       "0    1.0    1.0     5.0  girl  24.0      6.3\n",
       "1    2.0    1.0     7.0   boy  24.0      4.9\n",
       "2    3.0    1.0     4.0  girl  24.0      5.3\n",
       "3    4.0    1.0     3.0  girl  24.0      4.7\n",
       "4    5.0    1.0     5.0  girl  24.0      6.0\n",
       "5    6.0    1.0     4.0   boy  24.0      4.7"
      ],
      "text/html": [
       "<div>\n",
       "<style scoped>\n",
       "    .dataframe tbody tr th:only-of-type {\n",
       "        vertical-align: middle;\n",
       "    }\n",
       "\n",
       "    .dataframe tbody tr th {\n",
       "        vertical-align: top;\n",
       "    }\n",
       "\n",
       "    .dataframe thead th {\n",
       "        text-align: right;\n",
       "    }\n",
       "</style>\n",
       "<table border=\"1\" class=\"dataframe\">\n",
       "  <thead>\n",
       "    <tr style=\"text-align: right;\">\n",
       "      <th></th>\n",
       "      <th>pupil</th>\n",
       "      <th>class</th>\n",
       "      <th>extrav</th>\n",
       "      <th>sex</th>\n",
       "      <th>texp</th>\n",
       "      <th>popular</th>\n",
       "    </tr>\n",
       "  </thead>\n",
       "  <tbody>\n",
       "    <tr>\n",
       "      <th>0</th>\n",
       "      <td>1.0</td>\n",
       "      <td>1.0</td>\n",
       "      <td>5.0</td>\n",
       "      <td>girl</td>\n",
       "      <td>24.0</td>\n",
       "      <td>6.3</td>\n",
       "    </tr>\n",
       "    <tr>\n",
       "      <th>1</th>\n",
       "      <td>2.0</td>\n",
       "      <td>1.0</td>\n",
       "      <td>7.0</td>\n",
       "      <td>boy</td>\n",
       "      <td>24.0</td>\n",
       "      <td>4.9</td>\n",
       "    </tr>\n",
       "    <tr>\n",
       "      <th>2</th>\n",
       "      <td>3.0</td>\n",
       "      <td>1.0</td>\n",
       "      <td>4.0</td>\n",
       "      <td>girl</td>\n",
       "      <td>24.0</td>\n",
       "      <td>5.3</td>\n",
       "    </tr>\n",
       "    <tr>\n",
       "      <th>3</th>\n",
       "      <td>4.0</td>\n",
       "      <td>1.0</td>\n",
       "      <td>3.0</td>\n",
       "      <td>girl</td>\n",
       "      <td>24.0</td>\n",
       "      <td>4.7</td>\n",
       "    </tr>\n",
       "    <tr>\n",
       "      <th>4</th>\n",
       "      <td>5.0</td>\n",
       "      <td>1.0</td>\n",
       "      <td>5.0</td>\n",
       "      <td>girl</td>\n",
       "      <td>24.0</td>\n",
       "      <td>6.0</td>\n",
       "    </tr>\n",
       "    <tr>\n",
       "      <th>5</th>\n",
       "      <td>6.0</td>\n",
       "      <td>1.0</td>\n",
       "      <td>4.0</td>\n",
       "      <td>boy</td>\n",
       "      <td>24.0</td>\n",
       "      <td>4.7</td>\n",
       "    </tr>\n",
       "  </tbody>\n",
       "</table>\n",
       "</div>"
      ]
     },
     "execution_count": 7,
     "metadata": {},
     "output_type": "execute_result"
    }
   ],
   "execution_count": 7
  },
  {
   "metadata": {},
   "cell_type": "markdown",
   "source": "## The Effect of Priors",
   "id": "b513db1210faf0e6"
  },
  {
   "metadata": {},
   "cell_type": "markdown",
   "source": "By building the model using the `model.build()` command, you can inspect the prior specification of the model without fitting the model.",
   "id": "3d74e0f92e253a91"
  },
  {
   "metadata": {
    "ExecuteTime": {
     "end_time": "2025-06-03T15:56:51.363158Z",
     "start_time": "2025-06-03T15:56:51.293364Z"
    }
   },
   "cell_type": "code",
   "source": [
    "# Step 1: Define the model (but don't fit yet!)\n",
    "model = bmb.Model(\n",
    "    \"popular ~ sex + extrav + texp + extrav:texp + (1 + extrav | class)\",\n",
    "    data=popular2data,\n",
    "    center_predictors=False\n",
    ")\n",
    "\n",
    "# Step 2: Build the model to resolve and assign default priors (this is still not fitting the model!)\n",
    "model.build()\n",
    "\n",
    "# Step 3: Inspect the priors\n",
    "model"
   ],
   "id": "8d0614ea535f8755",
   "outputs": [
    {
     "data": {
      "text/plain": [
       "       Formula: popular ~ sex + extrav + texp + extrav:texp + (1 + extrav | class)\n",
       "        Family: gaussian\n",
       "          Link: mu = identity\n",
       "  Observations: 2000\n",
       "        Priors: \n",
       "    target = mu\n",
       "        Common-level effects\n",
       "            Intercept ~ Normal(mu: 5.0764, sigma: 18.3381)\n",
       "            sex ~ Normal(mu: 0.0, sigma: 6.9113)\n",
       "            extrav ~ Normal(mu: 0.0, sigma: 2.738)\n",
       "            texp ~ Normal(mu: 0.0, sigma: 0.5275)\n",
       "            extrav:texp ~ Normal(mu: 0.0, sigma: 0.101)\n",
       "        \n",
       "        Group-level effects\n",
       "            1|class ~ Normal(mu: 0.0, sigma: HalfNormal(sigma: 18.3381))\n",
       "            extrav|class ~ Normal(mu: 0.0, sigma: HalfNormal(sigma: 2.738))\n",
       "        \n",
       "        Auxiliary parameters\n",
       "            sigma ~ HalfStudentT(nu: 4.0, sigma: 1.3822)"
      ]
     },
     "execution_count": 31,
     "metadata": {},
     "output_type": "execute_result"
    }
   ],
   "execution_count": 31
  },
  {
   "metadata": {},
   "cell_type": "markdown",
   "source": "For the first model with priors we just set normal priors for all regression coefficients, in reality many, many more prior distributions are possible. Bambi is build on PyMC, therefore all prior distributions implemented in PyMC are possible. For an overview, see the [PyMC website](https://www.pymc.io/projects/docs/en/stable/api/distributions.html).",
   "id": "1f14735376478366"
  },
  {
   "metadata": {
    "ExecuteTime": {
     "end_time": "2025-06-03T15:58:46.350492Z",
     "start_time": "2025-06-03T15:58:46.340937Z"
    }
   },
   "cell_type": "code",
   "source": [
    "priors = {\n",
    "    \"extrav\": bmb.Prior(\"Normal\", mu=-10, sigma=100),\n",
    "    \"extrav:texp\": bmb.Prior(\"Normal\", mu=10, sigma=100),\n",
    "    \"sex\": bmb.Prior(\"Normal\", mu=-5, sigma=100),\n",
    "    \"texp\": bmb.Prior(\"Normal\", mu=-5, sigma=100),\n",
    "    \"Intercept\": bmb.Prior(\"Normal\", mu=10, sigma=100)\n",
    "}"
   ],
   "id": "523489860cc8ee88",
   "outputs": [],
   "execution_count": 32
  },
  {
   "metadata": {
    "ExecuteTime": {
     "end_time": "2025-06-03T20:48:53.199509Z",
     "start_time": "2025-06-03T20:40:19.814761Z"
    }
   },
   "cell_type": "code",
   "source": [
    "model6 = bmb.Model(\n",
    "    \"popular ~ sex + extrav + texp + extrav:texp + (1 + extrav | class)\",\n",
    "    data=popular2data,\n",
    "    center_predictors=False,\n",
    "    priors=priors\n",
    ")\n",
    "\n",
    "fit_model6 = model6.fit(\n",
    "    draws=2000,\n",
    "    tune=1000,\n",
    "    chains=2,\n",
    "    random_seed=SEED,\n",
    "    target_accept=0.97\n",
    ")"
   ],
   "id": "b22d1d395d5087ad",
   "outputs": [
    {
     "name": "stderr",
     "output_type": "stream",
     "text": [
      "Initializing NUTS using jitter+adapt_diag...\n",
      "Multiprocess sampling (2 chains in 2 jobs)\n",
      "NUTS: [sigma, Intercept, sex, extrav, texp, extrav:texp, 1|class_sigma, 1|class_offset, extrav|class_sigma, extrav|class_offset]\n"
     ]
    },
    {
     "data": {
      "text/plain": [
       "Output()"
      ],
      "application/vnd.jupyter.widget-view+json": {
       "version_major": 2,
       "version_minor": 0,
       "model_id": "6aacd4fc264c42dcbd4397b69fa5954d"
      }
     },
     "metadata": {},
     "output_type": "display_data"
    },
    {
     "data": {
      "text/plain": [],
      "text/html": [
       "<pre style=\"white-space:pre;overflow-x:auto;line-height:normal;font-family:Menlo,'DejaVu Sans Mono',consolas,'Courier New',monospace\"></pre>\n"
      ]
     },
     "metadata": {},
     "output_type": "display_data"
    },
    {
     "name": "stderr",
     "output_type": "stream",
     "text": [
      "Sampling 2 chains for 1_000 tune and 2_000 draw iterations (2_000 + 4_000 draws total) took 509 seconds.\n",
      "We recommend running at least 4 chains for robust computation of convergence diagnostics\n",
      "The rhat statistic is larger than 1.01 for some parameters. This indicates problems during sampling. See https://arxiv.org/abs/1903.08008 for details\n",
      "The effective sample size per chain is smaller than 100 for some parameters.  A higher number is needed for reliable rhat and ess computation. See https://arxiv.org/abs/1903.08008 for details\n"
     ]
    }
   ],
   "execution_count": 72
  },
  {
   "metadata": {},
   "cell_type": "markdown",
   "source": "To see which priors were inserted, inspect the model object again",
   "id": "91ef4e668b63d153"
  },
  {
   "metadata": {
    "ExecuteTime": {
     "end_time": "2025-06-03T17:25:57.715156Z",
     "start_time": "2025-06-03T17:25:57.706276Z"
    }
   },
   "cell_type": "code",
   "source": "model6",
   "id": "613466108137f240",
   "outputs": [
    {
     "data": {
      "text/plain": [
       "       Formula: popular ~ sex + extrav + texp + extrav:texp + (1 + extrav | class)\n",
       "        Family: gaussian\n",
       "          Link: mu = identity\n",
       "  Observations: 2000\n",
       "        Priors: \n",
       "    target = mu\n",
       "        Common-level effects\n",
       "            Intercept ~ Normal(mu: 10.0, sigma: 100.0)\n",
       "            sex ~ Normal(mu: -5.0, sigma: 100.0)\n",
       "            extrav ~ Normal(mu: -10.0, sigma: 100.0)\n",
       "            texp ~ Normal(mu: -5.0, sigma: 100.0)\n",
       "            extrav:texp ~ Normal(mu: 10.0, sigma: 100.0)\n",
       "        \n",
       "        Group-level effects\n",
       "            1|class ~ Normal(mu: 0.0, sigma: HalfNormal(sigma: 3.4554))\n",
       "            extrav|class ~ Normal(mu: 0.0, sigma: HalfNormal(sigma: 2.738))\n",
       "        \n",
       "        Auxiliary parameters\n",
       "            sigma ~ HalfStudentT(nu: 4.0, sigma: 1.3822)\n",
       "------\n",
       "* To see a plot of the priors call the .plot_priors() method.\n",
       "* To see a summary or plot of the posterior pass the object returned by .fit() to az.summary() or az.plot_trace()"
      ]
     },
     "execution_count": 38,
     "metadata": {},
     "output_type": "execute_result"
    }
   ],
   "execution_count": 38
  },
  {
   "metadata": {},
   "cell_type": "markdown",
   "source": "",
   "id": "4ccf9532e105ab16"
  },
  {
   "metadata": {},
   "cell_type": "markdown",
   "source": "After this model with uninformative priors, it's time to do the analysis with informative priors. Three models with different priors are tested and compared to investigate the influence of the construction of priors on the posterior distributions and therefore on the results in general.",
   "id": "f056969d5147317a"
  },
  {
   "metadata": {
    "ExecuteTime": {
     "end_time": "2025-06-03T17:40:41.538924Z",
     "start_time": "2025-06-03T17:38:07.307241Z"
    }
   },
   "cell_type": "code",
   "source": [
    "# Define custom priors\n",
    "priors2 = {\n",
    "    \"extrav\": bmb.Prior(\"Normal\", mu=0.8, sigma=0.1),\n",
    "    \"extrav:texp\": bmb.Prior(\"Normal\", mu=-0.025, sigma=0.1),\n",
    "    \"sex\": bmb.Prior(\"Normal\", mu=1.25, sigma=0.1),\n",
    "    \"texp\": bmb.Prior(\"Normal\", mu=0.23, sigma=0.1),\n",
    "    \"Intercept\": bmb.Prior(\"Normal\", mu=-1.21, sigma=0.1)\n",
    "}\n",
    "\n",
    "# Define model\n",
    "model7 = bmb.Model(\n",
    "    \"popular ~ sex + extrav + texp + extrav:texp + (1 + extrav | class)\",\n",
    "    data=popular2data,\n",
    "    center_predictors=False,\n",
    "    priors=priors2\n",
    ")\n",
    "\n",
    "# Fit model\n",
    "fit_model7 = model7.fit(\n",
    "    draws=2000,\n",
    "    tune=1000,\n",
    "    chains=2,\n",
    "    random_seed=SEED,\n",
    "    target_accept=0.97\n",
    ")"
   ],
   "id": "bafda2139f08f19b",
   "outputs": [
    {
     "name": "stderr",
     "output_type": "stream",
     "text": [
      "Initializing NUTS using jitter+adapt_diag...\n",
      "Multiprocess sampling (2 chains in 2 jobs)\n",
      "NUTS: [sigma, Intercept, sex, extrav, texp, extrav:texp, 1|class_sigma, 1|class_offset, extrav|class_sigma, extrav|class_offset]\n"
     ]
    },
    {
     "data": {
      "text/plain": [
       "Output()"
      ],
      "application/vnd.jupyter.widget-view+json": {
       "version_major": 2,
       "version_minor": 0,
       "model_id": "fc94f440e2a54dc1b261a087acb81650"
      }
     },
     "metadata": {},
     "output_type": "display_data"
    },
    {
     "data": {
      "text/plain": [],
      "text/html": [
       "<pre style=\"white-space:pre;overflow-x:auto;line-height:normal;font-family:Menlo,'DejaVu Sans Mono',consolas,'Courier New',monospace\"></pre>\n"
      ]
     },
     "metadata": {},
     "output_type": "display_data"
    },
    {
     "name": "stderr",
     "output_type": "stream",
     "text": [
      "Sampling 2 chains for 1_000 tune and 2_000 draw iterations (2_000 + 4_000 draws total) took 145 seconds.\n",
      "We recommend running at least 4 chains for robust computation of convergence diagnostics\n",
      "The rhat statistic is larger than 1.01 for some parameters. This indicates problems during sampling. See https://arxiv.org/abs/1903.08008 for details\n",
      "The effective sample size per chain is smaller than 100 for some parameters.  A higher number is needed for reliable rhat and ess computation. See https://arxiv.org/abs/1903.08008 for details\n"
     ]
    }
   ],
   "execution_count": 48
  },
  {
   "metadata": {
    "ExecuteTime": {
     "end_time": "2025-06-03T17:41:11.615892Z",
     "start_time": "2025-06-03T17:41:09.579875Z"
    }
   },
   "cell_type": "code",
   "source": "az.summary(fit_model7)",
   "id": "56253776365fd623",
   "outputs": [
    {
     "data": {
      "text/plain": [
       "                      mean     sd  hdi_3%  hdi_97%  mcse_mean  mcse_sd  \\\n",
       "sigma                0.748  0.012   0.726    0.770      0.000    0.000   \n",
       "Intercept           -1.206  0.094  -1.376   -1.027      0.002    0.001   \n",
       "sex[girl]            1.239  0.034   1.179    1.309      0.000    0.001   \n",
       "extrav               0.803  0.023   0.760    0.846      0.001    0.000   \n",
       "texp                 0.226  0.008   0.212    0.241      0.000    0.000   \n",
       "...                    ...    ...     ...      ...        ...      ...   \n",
       "extrav|class[96.0]   0.011  0.029  -0.035    0.075      0.001    0.001   \n",
       "extrav|class[97.0]   0.008  0.027  -0.044    0.064      0.001    0.001   \n",
       "extrav|class[98.0]  -0.004  0.027  -0.059    0.048      0.000    0.001   \n",
       "extrav|class[99.0]   0.002  0.028  -0.054    0.057      0.000    0.001   \n",
       "extrav|class[100.0] -0.001  0.025  -0.049    0.051      0.000    0.001   \n",
       "\n",
       "                     ess_bulk  ess_tail  r_hat  \n",
       "sigma                  5073.0    3081.0   1.00  \n",
       "Intercept              3017.0    3052.0   1.00  \n",
       "sex[girl]              5249.0    2930.0   1.00  \n",
       "extrav                 1930.0    2283.0   1.00  \n",
       "texp                   2050.0    2630.0   1.00  \n",
       "...                       ...       ...    ...  \n",
       "extrav|class[96.0]     1629.0     995.0   1.01  \n",
       "extrav|class[97.0]     3336.0    1015.0   1.01  \n",
       "extrav|class[98.0]     5112.0    1229.0   1.01  \n",
       "extrav|class[99.0]     5999.0    1643.0   1.01  \n",
       "extrav|class[100.0]    5248.0    1826.0   1.01  \n",
       "\n",
       "[208 rows x 9 columns]"
      ],
      "text/html": [
       "<div>\n",
       "<style scoped>\n",
       "    .dataframe tbody tr th:only-of-type {\n",
       "        vertical-align: middle;\n",
       "    }\n",
       "\n",
       "    .dataframe tbody tr th {\n",
       "        vertical-align: top;\n",
       "    }\n",
       "\n",
       "    .dataframe thead th {\n",
       "        text-align: right;\n",
       "    }\n",
       "</style>\n",
       "<table border=\"1\" class=\"dataframe\">\n",
       "  <thead>\n",
       "    <tr style=\"text-align: right;\">\n",
       "      <th></th>\n",
       "      <th>mean</th>\n",
       "      <th>sd</th>\n",
       "      <th>hdi_3%</th>\n",
       "      <th>hdi_97%</th>\n",
       "      <th>mcse_mean</th>\n",
       "      <th>mcse_sd</th>\n",
       "      <th>ess_bulk</th>\n",
       "      <th>ess_tail</th>\n",
       "      <th>r_hat</th>\n",
       "    </tr>\n",
       "  </thead>\n",
       "  <tbody>\n",
       "    <tr>\n",
       "      <th>sigma</th>\n",
       "      <td>0.748</td>\n",
       "      <td>0.012</td>\n",
       "      <td>0.726</td>\n",
       "      <td>0.770</td>\n",
       "      <td>0.000</td>\n",
       "      <td>0.000</td>\n",
       "      <td>5073.0</td>\n",
       "      <td>3081.0</td>\n",
       "      <td>1.00</td>\n",
       "    </tr>\n",
       "    <tr>\n",
       "      <th>Intercept</th>\n",
       "      <td>-1.206</td>\n",
       "      <td>0.094</td>\n",
       "      <td>-1.376</td>\n",
       "      <td>-1.027</td>\n",
       "      <td>0.002</td>\n",
       "      <td>0.001</td>\n",
       "      <td>3017.0</td>\n",
       "      <td>3052.0</td>\n",
       "      <td>1.00</td>\n",
       "    </tr>\n",
       "    <tr>\n",
       "      <th>sex[girl]</th>\n",
       "      <td>1.239</td>\n",
       "      <td>0.034</td>\n",
       "      <td>1.179</td>\n",
       "      <td>1.309</td>\n",
       "      <td>0.000</td>\n",
       "      <td>0.001</td>\n",
       "      <td>5249.0</td>\n",
       "      <td>2930.0</td>\n",
       "      <td>1.00</td>\n",
       "    </tr>\n",
       "    <tr>\n",
       "      <th>extrav</th>\n",
       "      <td>0.803</td>\n",
       "      <td>0.023</td>\n",
       "      <td>0.760</td>\n",
       "      <td>0.846</td>\n",
       "      <td>0.001</td>\n",
       "      <td>0.000</td>\n",
       "      <td>1930.0</td>\n",
       "      <td>2283.0</td>\n",
       "      <td>1.00</td>\n",
       "    </tr>\n",
       "    <tr>\n",
       "      <th>texp</th>\n",
       "      <td>0.226</td>\n",
       "      <td>0.008</td>\n",
       "      <td>0.212</td>\n",
       "      <td>0.241</td>\n",
       "      <td>0.000</td>\n",
       "      <td>0.000</td>\n",
       "      <td>2050.0</td>\n",
       "      <td>2630.0</td>\n",
       "      <td>1.00</td>\n",
       "    </tr>\n",
       "    <tr>\n",
       "      <th>...</th>\n",
       "      <td>...</td>\n",
       "      <td>...</td>\n",
       "      <td>...</td>\n",
       "      <td>...</td>\n",
       "      <td>...</td>\n",
       "      <td>...</td>\n",
       "      <td>...</td>\n",
       "      <td>...</td>\n",
       "      <td>...</td>\n",
       "    </tr>\n",
       "    <tr>\n",
       "      <th>extrav|class[96.0]</th>\n",
       "      <td>0.011</td>\n",
       "      <td>0.029</td>\n",
       "      <td>-0.035</td>\n",
       "      <td>0.075</td>\n",
       "      <td>0.001</td>\n",
       "      <td>0.001</td>\n",
       "      <td>1629.0</td>\n",
       "      <td>995.0</td>\n",
       "      <td>1.01</td>\n",
       "    </tr>\n",
       "    <tr>\n",
       "      <th>extrav|class[97.0]</th>\n",
       "      <td>0.008</td>\n",
       "      <td>0.027</td>\n",
       "      <td>-0.044</td>\n",
       "      <td>0.064</td>\n",
       "      <td>0.001</td>\n",
       "      <td>0.001</td>\n",
       "      <td>3336.0</td>\n",
       "      <td>1015.0</td>\n",
       "      <td>1.01</td>\n",
       "    </tr>\n",
       "    <tr>\n",
       "      <th>extrav|class[98.0]</th>\n",
       "      <td>-0.004</td>\n",
       "      <td>0.027</td>\n",
       "      <td>-0.059</td>\n",
       "      <td>0.048</td>\n",
       "      <td>0.000</td>\n",
       "      <td>0.001</td>\n",
       "      <td>5112.0</td>\n",
       "      <td>1229.0</td>\n",
       "      <td>1.01</td>\n",
       "    </tr>\n",
       "    <tr>\n",
       "      <th>extrav|class[99.0]</th>\n",
       "      <td>0.002</td>\n",
       "      <td>0.028</td>\n",
       "      <td>-0.054</td>\n",
       "      <td>0.057</td>\n",
       "      <td>0.000</td>\n",
       "      <td>0.001</td>\n",
       "      <td>5999.0</td>\n",
       "      <td>1643.0</td>\n",
       "      <td>1.01</td>\n",
       "    </tr>\n",
       "    <tr>\n",
       "      <th>extrav|class[100.0]</th>\n",
       "      <td>-0.001</td>\n",
       "      <td>0.025</td>\n",
       "      <td>-0.049</td>\n",
       "      <td>0.051</td>\n",
       "      <td>0.000</td>\n",
       "      <td>0.001</td>\n",
       "      <td>5248.0</td>\n",
       "      <td>1826.0</td>\n",
       "      <td>1.01</td>\n",
       "    </tr>\n",
       "  </tbody>\n",
       "</table>\n",
       "<p>208 rows × 9 columns</p>\n",
       "</div>"
      ]
     },
     "execution_count": 49,
     "metadata": {},
     "output_type": "execute_result"
    }
   ],
   "execution_count": 49
  },
  {
   "metadata": {
    "ExecuteTime": {
     "end_time": "2025-06-03T20:40:19.712913Z",
     "start_time": "2025-06-03T20:35:53.005858Z"
    }
   },
   "cell_type": "code",
   "source": [
    "# Define priors\n",
    "priors3 = {\n",
    "    \"extrav\": bmb.Prior(\"Normal\", mu=-1, sigma=0.1),\n",
    "    \"extrav:texp\": bmb.Prior(\"Normal\", mu=3, sigma=1),\n",
    "    \"sex\": bmb.Prior(\"Normal\", mu=-3, sigma=1),\n",
    "    \"texp\": bmb.Prior(\"Normal\", mu=-3, sigma=1),\n",
    "    \"Intercept\": bmb.Prior(\"Normal\", mu=0, sigma=5)\n",
    "}\n",
    "\n",
    "# Define the model\n",
    "model8 = bmb.Model(\n",
    "    \"popular ~ sex + extrav + texp + extrav:texp + (1 + extrav | class)\",\n",
    "    data=popular2data,\n",
    "    center_predictors=False,\n",
    "    priors=priors\n",
    ")\n",
    "\n",
    "# Fit the model\n",
    "fit_model8 = model8.fit(\n",
    "    draws=2000,\n",
    "    tune=1000,\n",
    "    chains=2,\n",
    "    random_seed=SEED,\n",
    "    target_accept=0.97\n",
    ")"
   ],
   "id": "9c81c3de9df77372",
   "outputs": [
    {
     "name": "stderr",
     "output_type": "stream",
     "text": [
      "Initializing NUTS using jitter+adapt_diag...\n",
      "Multiprocess sampling (2 chains in 2 jobs)\n",
      "NUTS: [sigma, Intercept, sex, extrav, texp, extrav:texp, 1|class_sigma, 1|class_offset, extrav|class_sigma, extrav|class_offset]\n"
     ]
    },
    {
     "data": {
      "text/plain": [
       "Output()"
      ],
      "application/vnd.jupyter.widget-view+json": {
       "version_major": 2,
       "version_minor": 0,
       "model_id": "cff25937bff54b85865fdc9a71455041"
      }
     },
     "metadata": {},
     "output_type": "display_data"
    },
    {
     "data": {
      "text/plain": [],
      "text/html": [
       "<pre style=\"white-space:pre;overflow-x:auto;line-height:normal;font-family:Menlo,'DejaVu Sans Mono',consolas,'Courier New',monospace\"></pre>\n"
      ]
     },
     "metadata": {},
     "output_type": "display_data"
    },
    {
     "name": "stderr",
     "output_type": "stream",
     "text": [
      "Sampling 2 chains for 1_000 tune and 2_000 draw iterations (2_000 + 4_000 draws total) took 262 seconds.\n",
      "We recommend running at least 4 chains for robust computation of convergence diagnostics\n",
      "The rhat statistic is larger than 1.01 for some parameters. This indicates problems during sampling. See https://arxiv.org/abs/1903.08008 for details\n",
      "The effective sample size per chain is smaller than 100 for some parameters.  A higher number is needed for reliable rhat and ess computation. See https://arxiv.org/abs/1903.08008 for details\n"
     ]
    }
   ],
   "execution_count": 71
  },
  {
   "metadata": {
    "ExecuteTime": {
     "end_time": "2025-06-03T17:46:44.508911Z",
     "start_time": "2025-06-03T17:46:43.617868Z"
    }
   },
   "cell_type": "code",
   "source": "az.summary(fit_model8)",
   "id": "4c32cd364cf7b9bd",
   "outputs": [
    {
     "data": {
      "text/plain": [
       "                      mean     sd  hdi_3%  hdi_97%  mcse_mean  mcse_sd  \\\n",
       "sigma                0.748  0.012   0.725    0.771      0.000    0.000   \n",
       "Intercept           -1.203  0.251  -1.720   -0.781      0.007    0.004   \n",
       "sex[girl]            1.239  0.037   1.170    1.310      0.000    0.001   \n",
       "extrav               0.803  0.037   0.736    0.873      0.001    0.001   \n",
       "texp                 0.226  0.015   0.195    0.252      0.000    0.000   \n",
       "...                    ...    ...     ...      ...        ...      ...   \n",
       "extrav|class[96.0]   0.010  0.029  -0.042    0.070      0.001    0.001   \n",
       "extrav|class[97.0]   0.009  0.028  -0.043    0.067      0.001    0.001   \n",
       "extrav|class[98.0]  -0.004  0.026  -0.059    0.045      0.000    0.001   \n",
       "extrav|class[99.0]   0.001  0.028  -0.056    0.057      0.000    0.001   \n",
       "extrav|class[100.0] -0.001  0.025  -0.056    0.047      0.000    0.001   \n",
       "\n",
       "                     ess_bulk  ess_tail  r_hat  \n",
       "sigma                  6341.0    3005.0   1.00  \n",
       "Intercept              1325.0    2048.0   1.00  \n",
       "sex[girl]              5914.0    2899.0   1.00  \n",
       "extrav                 2164.0    2359.0   1.00  \n",
       "texp                   1327.0    2166.0   1.00  \n",
       "...                       ...       ...    ...  \n",
       "extrav|class[96.0]     1232.0     992.0   1.00  \n",
       "extrav|class[97.0]     1987.0    1421.0   1.01  \n",
       "extrav|class[98.0]     4675.0    1472.0   1.00  \n",
       "extrav|class[99.0]     5873.0    1708.0   1.01  \n",
       "extrav|class[100.0]    5575.0    1449.0   1.00  \n",
       "\n",
       "[208 rows x 9 columns]"
      ],
      "text/html": [
       "<div>\n",
       "<style scoped>\n",
       "    .dataframe tbody tr th:only-of-type {\n",
       "        vertical-align: middle;\n",
       "    }\n",
       "\n",
       "    .dataframe tbody tr th {\n",
       "        vertical-align: top;\n",
       "    }\n",
       "\n",
       "    .dataframe thead th {\n",
       "        text-align: right;\n",
       "    }\n",
       "</style>\n",
       "<table border=\"1\" class=\"dataframe\">\n",
       "  <thead>\n",
       "    <tr style=\"text-align: right;\">\n",
       "      <th></th>\n",
       "      <th>mean</th>\n",
       "      <th>sd</th>\n",
       "      <th>hdi_3%</th>\n",
       "      <th>hdi_97%</th>\n",
       "      <th>mcse_mean</th>\n",
       "      <th>mcse_sd</th>\n",
       "      <th>ess_bulk</th>\n",
       "      <th>ess_tail</th>\n",
       "      <th>r_hat</th>\n",
       "    </tr>\n",
       "  </thead>\n",
       "  <tbody>\n",
       "    <tr>\n",
       "      <th>sigma</th>\n",
       "      <td>0.748</td>\n",
       "      <td>0.012</td>\n",
       "      <td>0.725</td>\n",
       "      <td>0.771</td>\n",
       "      <td>0.000</td>\n",
       "      <td>0.000</td>\n",
       "      <td>6341.0</td>\n",
       "      <td>3005.0</td>\n",
       "      <td>1.00</td>\n",
       "    </tr>\n",
       "    <tr>\n",
       "      <th>Intercept</th>\n",
       "      <td>-1.203</td>\n",
       "      <td>0.251</td>\n",
       "      <td>-1.720</td>\n",
       "      <td>-0.781</td>\n",
       "      <td>0.007</td>\n",
       "      <td>0.004</td>\n",
       "      <td>1325.0</td>\n",
       "      <td>2048.0</td>\n",
       "      <td>1.00</td>\n",
       "    </tr>\n",
       "    <tr>\n",
       "      <th>sex[girl]</th>\n",
       "      <td>1.239</td>\n",
       "      <td>0.037</td>\n",
       "      <td>1.170</td>\n",
       "      <td>1.310</td>\n",
       "      <td>0.000</td>\n",
       "      <td>0.001</td>\n",
       "      <td>5914.0</td>\n",
       "      <td>2899.0</td>\n",
       "      <td>1.00</td>\n",
       "    </tr>\n",
       "    <tr>\n",
       "      <th>extrav</th>\n",
       "      <td>0.803</td>\n",
       "      <td>0.037</td>\n",
       "      <td>0.736</td>\n",
       "      <td>0.873</td>\n",
       "      <td>0.001</td>\n",
       "      <td>0.001</td>\n",
       "      <td>2164.0</td>\n",
       "      <td>2359.0</td>\n",
       "      <td>1.00</td>\n",
       "    </tr>\n",
       "    <tr>\n",
       "      <th>texp</th>\n",
       "      <td>0.226</td>\n",
       "      <td>0.015</td>\n",
       "      <td>0.195</td>\n",
       "      <td>0.252</td>\n",
       "      <td>0.000</td>\n",
       "      <td>0.000</td>\n",
       "      <td>1327.0</td>\n",
       "      <td>2166.0</td>\n",
       "      <td>1.00</td>\n",
       "    </tr>\n",
       "    <tr>\n",
       "      <th>...</th>\n",
       "      <td>...</td>\n",
       "      <td>...</td>\n",
       "      <td>...</td>\n",
       "      <td>...</td>\n",
       "      <td>...</td>\n",
       "      <td>...</td>\n",
       "      <td>...</td>\n",
       "      <td>...</td>\n",
       "      <td>...</td>\n",
       "    </tr>\n",
       "    <tr>\n",
       "      <th>extrav|class[96.0]</th>\n",
       "      <td>0.010</td>\n",
       "      <td>0.029</td>\n",
       "      <td>-0.042</td>\n",
       "      <td>0.070</td>\n",
       "      <td>0.001</td>\n",
       "      <td>0.001</td>\n",
       "      <td>1232.0</td>\n",
       "      <td>992.0</td>\n",
       "      <td>1.00</td>\n",
       "    </tr>\n",
       "    <tr>\n",
       "      <th>extrav|class[97.0]</th>\n",
       "      <td>0.009</td>\n",
       "      <td>0.028</td>\n",
       "      <td>-0.043</td>\n",
       "      <td>0.067</td>\n",
       "      <td>0.001</td>\n",
       "      <td>0.001</td>\n",
       "      <td>1987.0</td>\n",
       "      <td>1421.0</td>\n",
       "      <td>1.01</td>\n",
       "    </tr>\n",
       "    <tr>\n",
       "      <th>extrav|class[98.0]</th>\n",
       "      <td>-0.004</td>\n",
       "      <td>0.026</td>\n",
       "      <td>-0.059</td>\n",
       "      <td>0.045</td>\n",
       "      <td>0.000</td>\n",
       "      <td>0.001</td>\n",
       "      <td>4675.0</td>\n",
       "      <td>1472.0</td>\n",
       "      <td>1.00</td>\n",
       "    </tr>\n",
       "    <tr>\n",
       "      <th>extrav|class[99.0]</th>\n",
       "      <td>0.001</td>\n",
       "      <td>0.028</td>\n",
       "      <td>-0.056</td>\n",
       "      <td>0.057</td>\n",
       "      <td>0.000</td>\n",
       "      <td>0.001</td>\n",
       "      <td>5873.0</td>\n",
       "      <td>1708.0</td>\n",
       "      <td>1.01</td>\n",
       "    </tr>\n",
       "    <tr>\n",
       "      <th>extrav|class[100.0]</th>\n",
       "      <td>-0.001</td>\n",
       "      <td>0.025</td>\n",
       "      <td>-0.056</td>\n",
       "      <td>0.047</td>\n",
       "      <td>0.000</td>\n",
       "      <td>0.001</td>\n",
       "      <td>5575.0</td>\n",
       "      <td>1449.0</td>\n",
       "      <td>1.00</td>\n",
       "    </tr>\n",
       "  </tbody>\n",
       "</table>\n",
       "<p>208 rows × 9 columns</p>\n",
       "</div>"
      ]
     },
     "execution_count": 51,
     "metadata": {},
     "output_type": "execute_result"
    }
   ],
   "execution_count": 51
  },
  {
   "metadata": {
    "ExecuteTime": {
     "end_time": "2025-06-03T20:35:52.957468Z",
     "start_time": "2025-06-03T20:30:44.976291Z"
    }
   },
   "cell_type": "code",
   "source": [
    "# Define priors\n",
    "priors4 = {\n",
    "    \"extrav\": bmb.Prior(\"Normal\", mu=3, sigma=0.1),\n",
    "    \"extrav:texp\": bmb.Prior(\"Normal\", mu=-3, sigma=1),\n",
    "    \"sex\": bmb.Prior(\"Normal\", mu=3, sigma=1),\n",
    "    \"texp\": bmb.Prior(\"Normal\", mu=3, sigma=1),\n",
    "    \"Intercept\": bmb.Prior(\"Normal\", mu=0, sigma=5)\n",
    "}\n",
    "\n",
    "# Define the model formula with a manually specified Intercept\n",
    "model9 = bmb.Model(\n",
    "    \"popular ~ sex + extrav + texp + extrav:texp + (1 + extrav | class)\",\n",
    "    data=popular2data,\n",
    "    center_predictors=False,\n",
    "    priors=priors4\n",
    ")\n",
    "\n",
    "# Fit the model\n",
    "fit_model9 = model9.fit(\n",
    "    draws=2000,\n",
    "    tune=1000,\n",
    "    chains=2,\n",
    "    random_seed=SEED,\n",
    "    target_accept=0.97\n",
    ")"
   ],
   "id": "ff1b6993a8b64ef3",
   "outputs": [
    {
     "name": "stderr",
     "output_type": "stream",
     "text": [
      "Initializing NUTS using jitter+adapt_diag...\n",
      "Multiprocess sampling (2 chains in 2 jobs)\n",
      "NUTS: [sigma, Intercept, sex, extrav, texp, extrav:texp, 1|class_sigma, 1|class_offset, extrav|class_sigma, extrav|class_offset]\n"
     ]
    },
    {
     "data": {
      "text/plain": [
       "Output()"
      ],
      "application/vnd.jupyter.widget-view+json": {
       "version_major": 2,
       "version_minor": 0,
       "model_id": "81678cb8877842f89cda9c5feef090f7"
      }
     },
     "metadata": {},
     "output_type": "display_data"
    },
    {
     "data": {
      "text/plain": [],
      "text/html": [
       "<pre style=\"white-space:pre;overflow-x:auto;line-height:normal;font-family:Menlo,'DejaVu Sans Mono',consolas,'Courier New',monospace\"></pre>\n"
      ]
     },
     "metadata": {},
     "output_type": "display_data"
    },
    {
     "name": "stderr",
     "output_type": "stream",
     "text": [
      "Sampling 2 chains for 1_000 tune and 2_000 draw iterations (2_000 + 4_000 draws total) took 305 seconds.\n",
      "We recommend running at least 4 chains for robust computation of convergence diagnostics\n"
     ]
    }
   ],
   "execution_count": 70
  },
  {
   "metadata": {
    "ExecuteTime": {
     "end_time": "2025-06-03T17:51:32.942080Z",
     "start_time": "2025-06-03T17:51:32.293303Z"
    }
   },
   "cell_type": "code",
   "source": "az.summary(fit_model9)",
   "id": "5078ad28f60fdf8f",
   "outputs": [
    {
     "data": {
      "text/plain": [
       "                      mean     sd  hdi_3%  hdi_97%  mcse_mean  mcse_sd  \\\n",
       "sigma                0.756  0.012   0.733    0.779      0.000    0.000   \n",
       "Intercept           -2.706  0.242  -3.157   -2.251      0.003    0.003   \n",
       "sex[girl]            1.225  0.037   1.161    1.300      0.000    0.001   \n",
       "extrav               1.120  0.049   1.031    1.212      0.001    0.001   \n",
       "texp                 0.311  0.015   0.284    0.340      0.000    0.000   \n",
       "...                    ...    ...     ...      ...        ...      ...   \n",
       "extrav|class[96.0]   0.037  0.054  -0.064    0.139      0.001    0.001   \n",
       "extrav|class[97.0]   0.013  0.056  -0.089    0.123      0.001    0.001   \n",
       "extrav|class[98.0]   0.007  0.055  -0.102    0.109      0.001    0.001   \n",
       "extrav|class[99.0]   0.008  0.057  -0.091    0.121      0.001    0.001   \n",
       "extrav|class[100.0] -0.053  0.055  -0.155    0.048      0.001    0.001   \n",
       "\n",
       "                     ess_bulk  ess_tail  r_hat  \n",
       "sigma                  6158.0    2797.0    1.0  \n",
       "Intercept              5732.0    3347.0    1.0  \n",
       "sex[girl]              8850.0    2696.0    1.0  \n",
       "extrav                 1408.0    2106.0    1.0  \n",
       "texp                   5656.0    3211.0    1.0  \n",
       "...                       ...       ...    ...  \n",
       "extrav|class[96.0]     4978.0    2816.0    1.0  \n",
       "extrav|class[97.0]     8568.0    2384.0    1.0  \n",
       "extrav|class[98.0]     6702.0    2607.0    1.0  \n",
       "extrav|class[99.0]     6660.0    3012.0    1.0  \n",
       "extrav|class[100.0]    2567.0    2648.0    1.0  \n",
       "\n",
       "[208 rows x 9 columns]"
      ],
      "text/html": [
       "<div>\n",
       "<style scoped>\n",
       "    .dataframe tbody tr th:only-of-type {\n",
       "        vertical-align: middle;\n",
       "    }\n",
       "\n",
       "    .dataframe tbody tr th {\n",
       "        vertical-align: top;\n",
       "    }\n",
       "\n",
       "    .dataframe thead th {\n",
       "        text-align: right;\n",
       "    }\n",
       "</style>\n",
       "<table border=\"1\" class=\"dataframe\">\n",
       "  <thead>\n",
       "    <tr style=\"text-align: right;\">\n",
       "      <th></th>\n",
       "      <th>mean</th>\n",
       "      <th>sd</th>\n",
       "      <th>hdi_3%</th>\n",
       "      <th>hdi_97%</th>\n",
       "      <th>mcse_mean</th>\n",
       "      <th>mcse_sd</th>\n",
       "      <th>ess_bulk</th>\n",
       "      <th>ess_tail</th>\n",
       "      <th>r_hat</th>\n",
       "    </tr>\n",
       "  </thead>\n",
       "  <tbody>\n",
       "    <tr>\n",
       "      <th>sigma</th>\n",
       "      <td>0.756</td>\n",
       "      <td>0.012</td>\n",
       "      <td>0.733</td>\n",
       "      <td>0.779</td>\n",
       "      <td>0.000</td>\n",
       "      <td>0.000</td>\n",
       "      <td>6158.0</td>\n",
       "      <td>2797.0</td>\n",
       "      <td>1.0</td>\n",
       "    </tr>\n",
       "    <tr>\n",
       "      <th>Intercept</th>\n",
       "      <td>-2.706</td>\n",
       "      <td>0.242</td>\n",
       "      <td>-3.157</td>\n",
       "      <td>-2.251</td>\n",
       "      <td>0.003</td>\n",
       "      <td>0.003</td>\n",
       "      <td>5732.0</td>\n",
       "      <td>3347.0</td>\n",
       "      <td>1.0</td>\n",
       "    </tr>\n",
       "    <tr>\n",
       "      <th>sex[girl]</th>\n",
       "      <td>1.225</td>\n",
       "      <td>0.037</td>\n",
       "      <td>1.161</td>\n",
       "      <td>1.300</td>\n",
       "      <td>0.000</td>\n",
       "      <td>0.001</td>\n",
       "      <td>8850.0</td>\n",
       "      <td>2696.0</td>\n",
       "      <td>1.0</td>\n",
       "    </tr>\n",
       "    <tr>\n",
       "      <th>extrav</th>\n",
       "      <td>1.120</td>\n",
       "      <td>0.049</td>\n",
       "      <td>1.031</td>\n",
       "      <td>1.212</td>\n",
       "      <td>0.001</td>\n",
       "      <td>0.001</td>\n",
       "      <td>1408.0</td>\n",
       "      <td>2106.0</td>\n",
       "      <td>1.0</td>\n",
       "    </tr>\n",
       "    <tr>\n",
       "      <th>texp</th>\n",
       "      <td>0.311</td>\n",
       "      <td>0.015</td>\n",
       "      <td>0.284</td>\n",
       "      <td>0.340</td>\n",
       "      <td>0.000</td>\n",
       "      <td>0.000</td>\n",
       "      <td>5656.0</td>\n",
       "      <td>3211.0</td>\n",
       "      <td>1.0</td>\n",
       "    </tr>\n",
       "    <tr>\n",
       "      <th>...</th>\n",
       "      <td>...</td>\n",
       "      <td>...</td>\n",
       "      <td>...</td>\n",
       "      <td>...</td>\n",
       "      <td>...</td>\n",
       "      <td>...</td>\n",
       "      <td>...</td>\n",
       "      <td>...</td>\n",
       "      <td>...</td>\n",
       "    </tr>\n",
       "    <tr>\n",
       "      <th>extrav|class[96.0]</th>\n",
       "      <td>0.037</td>\n",
       "      <td>0.054</td>\n",
       "      <td>-0.064</td>\n",
       "      <td>0.139</td>\n",
       "      <td>0.001</td>\n",
       "      <td>0.001</td>\n",
       "      <td>4978.0</td>\n",
       "      <td>2816.0</td>\n",
       "      <td>1.0</td>\n",
       "    </tr>\n",
       "    <tr>\n",
       "      <th>extrav|class[97.0]</th>\n",
       "      <td>0.013</td>\n",
       "      <td>0.056</td>\n",
       "      <td>-0.089</td>\n",
       "      <td>0.123</td>\n",
       "      <td>0.001</td>\n",
       "      <td>0.001</td>\n",
       "      <td>8568.0</td>\n",
       "      <td>2384.0</td>\n",
       "      <td>1.0</td>\n",
       "    </tr>\n",
       "    <tr>\n",
       "      <th>extrav|class[98.0]</th>\n",
       "      <td>0.007</td>\n",
       "      <td>0.055</td>\n",
       "      <td>-0.102</td>\n",
       "      <td>0.109</td>\n",
       "      <td>0.001</td>\n",
       "      <td>0.001</td>\n",
       "      <td>6702.0</td>\n",
       "      <td>2607.0</td>\n",
       "      <td>1.0</td>\n",
       "    </tr>\n",
       "    <tr>\n",
       "      <th>extrav|class[99.0]</th>\n",
       "      <td>0.008</td>\n",
       "      <td>0.057</td>\n",
       "      <td>-0.091</td>\n",
       "      <td>0.121</td>\n",
       "      <td>0.001</td>\n",
       "      <td>0.001</td>\n",
       "      <td>6660.0</td>\n",
       "      <td>3012.0</td>\n",
       "      <td>1.0</td>\n",
       "    </tr>\n",
       "    <tr>\n",
       "      <th>extrav|class[100.0]</th>\n",
       "      <td>-0.053</td>\n",
       "      <td>0.055</td>\n",
       "      <td>-0.155</td>\n",
       "      <td>0.048</td>\n",
       "      <td>0.001</td>\n",
       "      <td>0.001</td>\n",
       "      <td>2567.0</td>\n",
       "      <td>2648.0</td>\n",
       "      <td>1.0</td>\n",
       "    </tr>\n",
       "  </tbody>\n",
       "</table>\n",
       "<p>208 rows × 9 columns</p>\n",
       "</div>"
      ]
     },
     "execution_count": 53,
     "metadata": {},
     "output_type": "execute_result"
    }
   ],
   "execution_count": 53
  },
  {
   "metadata": {},
   "cell_type": "markdown",
   "source": "Comparing the last three models we see that for the first two models the prior specification does not really have a large influence on the results. However, for the final model with the highly informative priors that are far from the observed data, the priors do influence the posterior results. Because of the fairly large dataset, the priors are unlikely to have a large influence unless they are highly informative. Because we asked to save the prior in the last model (`\"sample_prior = TRUE\"`), we can now plot the difference between the prior and the posterior distribution of different parameters. In all cases, we see that the prior has a large influence on the posterior compared to the posterior estimates we arrived in earlier models.",
   "id": "b45863f3040f5329"
  },
  {
   "metadata": {
    "ExecuteTime": {
     "end_time": "2025-06-03T18:14:33.368852Z",
     "start_time": "2025-06-03T18:14:33.362916Z"
    }
   },
   "cell_type": "code",
   "source": "",
   "id": "3e6d718c93ec6040",
   "outputs": [],
   "execution_count": 57
  },
  {
   "metadata": {
    "ExecuteTime": {
     "end_time": "2025-06-03T22:13:08.427609Z",
     "start_time": "2025-06-03T22:13:08.369836Z"
    }
   },
   "cell_type": "code",
   "source": "",
   "id": "e5c33926ed6826c8",
   "outputs": [],
   "execution_count": null
  },
  {
   "metadata": {
    "ExecuteTime": {
     "end_time": "2025-06-03T20:29:22.302560Z",
     "start_time": "2025-06-03T20:29:21.646201Z"
    }
   },
   "cell_type": "code",
   "source": [
    "# 1. Extract posterior samples\n",
    "def extract_posterior_samples(fit, param, label):\n",
    "    samples = fit.posterior[param].values.flatten()\n",
    "    return pd.DataFrame({\"value\": samples, \"key\": \"posterior\", \"id\": label})\n",
    "\n",
    "# 2. Combine posteriors from each model\n",
    "samples_6 = extract_posterior_samples(fit_model6, \"extrav\", \"prior 1\")\n",
    "samples_8 = extract_posterior_samples(fit_model8, \"extrav\", \"prior 2\")\n",
    "samples_9 = extract_posterior_samples(fit_model9, \"extrav\", \"prior 3\")\n",
    "\n",
    "posterior_df = pd.concat([samples_6, samples_8, samples_9], ignore_index=True)\n",
    "\n",
    "# 3. Get frequentist estimate\n",
    "lme_model = MixedLM.from_formula(\"popular ~ sex + extrav + texp + extrav:texp\",\n",
    "                                 groups=\"class\",\n",
    "                                 re_formula=\"1 + extrav\",\n",
    "                                 data=popular2data)\n",
    "lme_fit = lme_model.fit()\n",
    "extrav_est = lme_fit.params[\"extrav\"]\n",
    "\n",
    "# 4. Plot posterior densities\n",
    "plt.figure(figsize=(10, 6))\n",
    "sns.kdeplot(data=posterior_df, x=\"value\", hue=\"id\", fill=True,\n",
    "            alpha=0.4, linewidth=1.5, common_norm=False,\n",
    "            palette=[\"gold\", \"darkred\", \"blue\"],\n",
    "            hue_order=[\"prior 1\", \"prior 2\", \"prior 3\"])\n",
    "\n",
    "# 5. Overlay analytical prior densities\n",
    "x_vals = np.linspace(-2, 4, 1000)\n",
    "priors = {\n",
    "    \"prior 1\": norm.pdf(x_vals, loc=-10, scale=10),\n",
    "    \"prior 2\": norm.pdf(x_vals, loc=-1, scale=0.1),\n",
    "    \"prior 3\": norm.pdf(x_vals, loc=3, scale=0.1),\n",
    "}\n",
    "prior_colors = {\"prior 1\": \"gold\", \"prior 2\": \"darkred\", \"prior 3\": \"blue\"}\n",
    "\n",
    "for label, y_vals in priors.items():\n",
    "    plt.plot(x_vals, y_vals, label=f\"{label} (prior)\", color=prior_colors[label], linestyle=\"--\", linewidth=1)\n",
    "\n",
    "# 6. Add LME estimate\n",
    "plt.axvline(extrav_est, color=\"black\", linestyle=\"--\", linewidth=0.8)\n",
    "plt.annotate(f\"LME estimate: {extrav_est:.3f}\",\n",
    "             xy=(extrav_est, 0), xytext=(extrav_est + 0.1, 1),\n",
    "             arrowprops=dict(arrowstyle=\"->\", color=\"gray\"),\n",
    "             fontsize=10, color=\"black\", fontstyle=\"italic\")\n",
    "\n",
    "# 7. Final styling\n",
    "plt.xlim(-1.5, 3.5)\n",
    "plt.ylim(0, 5)\n",
    "plt.xlabel(\"Value\")\n",
    "plt.title(r\"Influence of (Informative) Priors on $\\beta_{\\mathrm{Extraversion}}$\", fontsize=14)\n",
    "plt.suptitle(\"Posterior and Prior Densities under 3 Different Prior Settings\", fontsize=10)\n",
    "plt.grid(True, linestyle=\"--\", alpha=0.3)\n",
    "plt.legend(title=\"Priors\", labels=[\n",
    "    \"uniformative ~ N(-10,100)\",\n",
    "    \"informative ~ N(-1,0.1)\",\n",
    "    \"informative ~ N(3,0.1)\"\n",
    "])\n",
    "plt.show()\n"
   ],
   "id": "7b5d87035b8e695a",
   "outputs": [
    {
     "name": "stderr",
     "output_type": "stream",
     "text": [
      "C:\\Users\\fmetwaly\\AppData\\Local\\anaconda3\\envs\\BayesEst\\Lib\\site-packages\\statsmodels\\regression\\mixed_linear_model.py:2237: ConvergenceWarning: The MLE may be on the boundary of the parameter space.\n",
      "  warnings.warn(msg, ConvergenceWarning)\n"
     ]
    },
    {
     "data": {
      "text/plain": [
       "<Figure size 1000x600 with 1 Axes>"
      ],
      "image/png": "[encoded data removed]"
     },
     "metadata": {},
     "output_type": "display_data"
    }
   ],
   "execution_count": 69
  },
  {
   "metadata": {},
   "cell_type": "markdown",
   "source": "In this plot we can clearly see how the informative priors pull the posteriors towards them, while the uninformarive prior yields a posterior that is centred around what would be the frequentist (LME4) estimate.",
   "id": "36de521f453ef667"
  },
  {
   "metadata": {},
   "cell_type": "markdown",
   "source": [
    "#### Brms Reference\n",
    "\n",
    "[Burkner, P. C. (2017). brms: An R package for Bayesian multilevel models using Stan. Journal of Statistical Software, 80(1), 1-28.](https://www.jstatsoft.org/article/view/v080i01)\n"
   ],
   "id": "1cd59cfb3664c261"
  },
  {
   "metadata": {},
   "cell_type": "markdown",
   "source": "## Original Computing Environment",
   "id": "76057d81eb85fb92"
  },
  {
   "metadata": {},
   "cell_type": "code",
   "outputs": [],
   "execution_count": null,
   "source": [
    "import session_info\n",
    "session_info.show()"
   ],
   "id": "67161455c00a956e"
  }
 ],
 "metadata": {
  "kernelspec": {
   "display_name": "Python 3",
   "language": "python",
   "name": "python3"
  },
  "language_info": {
   "codemirror_mode": {
    "name": "ipython",
    "version": 2
   },
   "file_extension": ".py",
   "mimetype": "text/x-python",
   "name": "python",
   "nbconvert_exporter": "python",
   "pygments_lexer": "ipython2",
   "version": "2.7.6"
  }
 },
 "nbformat": 4,
 "nbformat_minor": 5
}
