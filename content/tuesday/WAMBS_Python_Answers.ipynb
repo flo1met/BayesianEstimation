{
 "cells": [
  {
   "metadata": {},
   "cell_type": "markdown",
   "source": [
    "# WAMBS Python Tutorial\n",
    "\n",
    "**Authors**: original R Tutorial created by Laurent Smeets and Rens van de Schoot, with updates by Duco Veen; Python translation by Florian Metwaly.\n",
    "\n",
    "This is the answer file to the 'WAMBS_Python.ipybn' notebook. You can find the correct answers under the corresponding exercise number."
   ],
   "id": "fe1506a97042d742"
  },
  {
   "metadata": {},
   "cell_type": "markdown",
   "source": "### Exercise 1",
   "id": "6a553aa2bdd85cae"
  },
  {
   "metadata": {},
   "cell_type": "markdown",
   "source": "#### Exercise 1.1",
   "id": "dc996415651105a1"
  },
  {
   "metadata": {},
   "cell_type": "code",
   "outputs": [],
   "execution_count": null,
   "source": [
    "n = 100_000\n",
    "prior_intercept = np.random.normal(loc=-35, scale=np.sqrt(20), size=n)\n",
    "effect_age = np.random.normal(loc=0.8, scale=np.sqrt(5), size=n)\n",
    "effect_age2 = np.random.normal(loc=0, scale=np.sqrt(10), size=n)\n",
    "\n",
    "fig, axs = plt.subplots(2, 2, figsize=(10, 8))\n",
    "\n",
    "az.plot_dist(prior_intercept, ax=axs[0, 0])\n",
    "axs[0, 0].set_title(\"Prior Intercept\")\n",
    "\n",
    "az.plot_dist(effect_age, ax=axs[0, 1])\n",
    "axs[0, 1].set_title(\"Effect Age\")\n",
    "\n",
    "az.plot_dist(effect_age2, ax=axs[1, 0])\n",
    "axs[1, 0].set_title(\"Effect Age²\")\n",
    "\n",
    "axs[1, 1].axis(\"off\")\n",
    "\n",
    "plt.tight_layout()\n",
    "plt.show()"
   ],
   "id": "1a27df87dc325c5"
  },
  {
   "metadata": {},
   "cell_type": "markdown",
   "source": "#### Exercise 1.2",
   "id": "abab67e73794015d"
  },
  {
   "metadata": {},
   "cell_type": "code",
   "outputs": [],
   "execution_count": null,
   "source": [
    "years = np.arange(20, 81)  # 20 to 80 inclusive\n",
    "delay = -35 + 0.8 * years + 0 * years**2\n",
    "\n",
    "plt.plot(years, delay, linestyle='-')\n",
    "plt.xlabel(\"Years\")\n",
    "plt.ylabel(\"Delay\")\n",
    "plt.title(\"Delay vs Years\")\n",
    "plt.show()"
   ],
   "id": "7de8b30f059748bb"
  },
  {
   "metadata": {},
   "cell_type": "markdown",
   "source": "### Exercise 3",
   "id": "713e4f47e9111961"
  },
  {
   "metadata": {},
   "cell_type": "markdown",
   "source": "#### Exercise 3.1",
   "id": "e1fc77c59c952dda"
  },
  {
   "metadata": {},
   "cell_type": "code",
   "outputs": [],
   "execution_count": null,
   "source": [
    "# Get posterior summaries\n",
    "summary_fit = az.summary(fit)\n",
    "summary_fit_doubleiter = az.summary(fit_doubleiter)\n",
    "\n",
    "# Extract posterior means\n",
    "means_fit = summary_fit[\"mean\"]\n",
    "means_fit_doubleiter = summary_fit_doubleiter[\"mean\"]\n",
    "\n",
    "# Compute % change\n",
    "percent_change = 100 * ((means_fit_doubleiter - means_fit) / means_fit)\n",
    "percent_change_rounded = percent_change.round(4)\n",
    "\n",
    "print(percent_change_rounded)\n"
   ],
   "id": "f016edcab71eff17"
  },
  {
   "metadata": {},
   "cell_type": "markdown",
   "source": "### Exercise 7",
   "id": "5313eb9db7157ccc"
  },
  {
   "metadata": {},
   "cell_type": "markdown",
   "source": "#### Exercise 7.1",
   "id": "efd4ebeb4cc0528d"
  },
  {
   "metadata": {},
   "cell_type": "code",
   "outputs": [],
   "execution_count": null,
   "source": [
    "# Get posterior summary of the different IG prior model\n",
    "summary_fit_difIG = az.summary(fit_difIG)\n",
    "\n",
    "# Extract posterior mean\n",
    "means_fit_difIG = summary_fit_difIG[\"mean\"]\n",
    "\n",
    "# Compute % change\n",
    "percent_change_difIG = 100 * ((means_fit_difIG - means_fit) / means_fit)\n",
    "percent_change_rounded_difIG = percent_change_difIG.round(4)\n",
    "\n",
    "print(percent_change_rounded_difIG)\n"
   ],
   "id": "292ae413ce19b447"
  },
  {
   "metadata": {},
   "cell_type": "markdown",
   "source": "### Exercise 8",
   "id": "15c31a5683adfb2d"
  },
  {
   "metadata": {},
   "cell_type": "markdown",
   "source": "#### Exercise 8.1",
   "id": "fcc1e62d75b4c398"
  },
  {
   "metadata": {},
   "cell_type": "code",
   "outputs": [],
   "execution_count": null,
   "source": [
    "# Get posterior summary of the different IG prior model\n",
    "summary_fit_default = az.summary(fit_default)\n",
    "\n",
    "# Extract posterior mean\n",
    "means_fit_default = summary_fit_default[\"mean\"]\n",
    "\n",
    "# Compute % change\n",
    "percent_change_default = 100 * ((means_fit_default - means_fit) / means_fit)\n",
    "percent_change_rounded_default = percent_change_default.round(4)\n",
    "\n",
    "print(percent_change_rounded_default)\n"
   ],
   "id": "9260fdee6fc37794"
  }
 ],
 "metadata": {
  "kernelspec": {
   "display_name": "Python 3",
   "language": "python",
   "name": "python3"
  },
  "language_info": {
   "codemirror_mode": {
    "name": "ipython",
    "version": 2
   },
   "file_extension": ".py",
   "mimetype": "text/x-python",
   "name": "python",
   "nbconvert_exporter": "python",
   "pygments_lexer": "ipython2",
   "version": "2.7.6"
  }
 },
 "nbformat": 4,
 "nbformat_minor": 5
}
